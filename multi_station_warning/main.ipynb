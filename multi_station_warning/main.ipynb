{
 "cells": [
  {
   "cell_type": "code",
   "execution_count": 1,
   "metadata": {},
   "outputs": [],
   "source": [
    "import pandas as pd\n",
    "import numpy as np"
   ]
  },
  {
   "cell_type": "code",
   "execution_count": 2,
   "metadata": {},
   "outputs": [
    {
     "name": "stdout",
     "output_type": "stream",
     "text": [
      "0\n",
      "5\n",
      "8\n",
      "100\n",
      "249\n"
     ]
    }
   ],
   "source": [
    "import matplotlib.pyplot as plt      # v 3.3.2\n",
    "waves = np.random.rand(1,250,3,3000)\n",
    "position_list = {\"0\":True,\"5\":True,\"100\":True,\"249\":True,\"8\":True}\n",
    "def plot_wave(waves):\n",
    "    fig, ax = plt.subplots(10,25,constrained_layout = True,figsize=(300, 100))\n",
    "    count = -1\n",
    "    for i in range(1,11):\n",
    "        for j in range(1,26):\n",
    "            count+=1\n",
    "            if(str(count) not in position_list.keys()):\n",
    "                continue\n",
    "            # print(f\"i:{i},j:{j},index:{index}\")\n",
    "            # wave = np.sqrt(waves[index,:,0]**2+waves[index,:,1]**2+waves[index,:,2]**2)\n",
    "            wave = waves[0,count,0,:]\n",
    "            ax[i-1,j-1].plot(wave)\n",
    "            print(count)\n",
    "    plt.savefig(f'123.png')\n",
    "    plt.close()\n",
    "plot_wave(waves)"
   ]
  },
  {
   "cell_type": "code",
   "execution_count": 3,
   "metadata": {},
   "outputs": [
    {
     "data": {
      "text/plain": [
       "(25, 3000, 3)"
      ]
     },
     "execution_count": 3,
     "metadata": {},
     "output_type": "execute_result"
    }
   ],
   "source": []
  },
  {
   "cell_type": "code",
   "execution_count": null,
   "metadata": {},
   "outputs": [],
   "source": []
  }
 ],
 "metadata": {
  "kernelspec": {
   "display_name": "Python 3.8.9 64-bit ('earthquake')",
   "language": "python",
   "name": "python3"
  },
  "language_info": {
   "codemirror_mode": {
    "name": "ipython",
    "version": 3
   },
   "file_extension": ".py",
   "mimetype": "text/x-python",
   "name": "python",
   "nbconvert_exporter": "python",
   "pygments_lexer": "ipython3",
   "version": "3.8.9"
  },
  "orig_nbformat": 4,
  "vscode": {
   "interpreter": {
    "hash": "7f72311f06bc1a4fedb117aa7f45c9a623304697e97971975014b96fbf84ebb5"
   }
  }
 },
 "nbformat": 4,
 "nbformat_minor": 2
}
