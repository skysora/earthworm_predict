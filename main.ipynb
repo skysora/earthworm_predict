{
 "cells": [
  {
   "cell_type": "code",
   "execution_count": 3,
   "metadata": {},
   "outputs": [],
   "source": [
    "import pandas as pd\n",
    "import numpy as np\n",
    "from datetime import datetime, timedelta\n",
    "import requests\n",
    "import time"
   ]
  },
  {
   "cell_type": "code",
   "execution_count": 13,
   "metadata": {},
   "outputs": [],
   "source": [
    "def mapping_gal_to_intensity(gal):\n",
    "    if gal == '8gal':\n",
    "        return '3級'\n",
    "    if gal == '25gal':\n",
    "        return '4級'\n",
    "    if gal == '81gal':\n",
    "        return '5弱級'\n",
    "    if gal == '140gal':\n",
    "        return '5強級'\n",
    "    if gal == '250gal':\n",
    "        return '6弱級'\n",
    "    \n",
    "def gen_info(df):\n",
    "    # output info\n",
    "    result = {}\n",
    "\n",
    "    true_intensity_level = ['1', '2', '3', '4', '5弱', '5強', '6弱']\n",
    "    true_intensity_key = ['Label_0.8gal', 'Label_2.5gal', 'Label_8gal', 'Label_25gal', 'Label_81gal', 'Label_140gal', 'Label_250gal']\n",
    "    pred_intensity_level = ['3', '4', '5弱', '5強', '6弱']\n",
    "    pred_intensity_key = ['8gal', '25gal', '81gal', '140gal', '250gal']\n",
    "    \n",
    "    for data in df.iterrows():\n",
    "        tmp_station = data[1]['County'] + ' ' + data[1]['Township'] + ' ' + data[1]['Station_Chinese_Name']\n",
    "        \n",
    "        if tmp_station not in result.keys():\n",
    "            result[tmp_station] = {}\n",
    "\n",
    "        gt = np.array([data[1][k] for k in true_intensity_key])\n",
    "        pred = np.array([data[1][k] for k in pred_intensity_key])\n",
    "\n",
    "        mask_gt = np.logical_or(gt == '0', gt == '0.0')\n",
    "        mask_pred = pred == 1\n",
    "\n",
    "        # 檢查真實情況有沒有超過 1 級\n",
    "        if np.any(mask_gt):\n",
    "            gt_intensity = mask_gt.tolist().count(False)\n",
    "            result[tmp_station]['true_intensity'] = true_intensity_level[gt_intensity-1]\n",
    "        else:\n",
    "            result[tmp_station]['true_intensity'] = 0\n",
    "\n",
    "        # 檢查預測情況有沒有超過 1 級\n",
    "        if np.any(mask_pred):\n",
    "            prediction_intensity = mask_pred.tolist().count(True)\n",
    "            result[tmp_station]['pred_intensity'] = pred_intensity_level[prediction_intensity-1]\n",
    "        else:\n",
    "            result[tmp_station]['pred_intensity'] = 0\n",
    "\n",
    "        # 計算 leading time\n",
    "        for idx, p_inten in enumerate(mask_pred):\n",
    "            if p_inten == False:\n",
    "                continue\n",
    "            \n",
    "            level = true_intensity_key[idx+2]\n",
    "            pred_time = data[1]['Warning_Time']\n",
    "            gt_time = data[1][level]\n",
    "            \n",
    "            if 'time_diff' not in result[tmp_station]:\n",
    "                result[tmp_station]['time_diff'] = {}\n",
    "            \n",
    "            if gt_time == 0:\n",
    "                result[tmp_station]['time_diff'][level] = 'false positive'\n",
    "            else:\n",
    "                gt_time = datetime.strptime(gt_time, '%Y-%m-%d %H:%M:%S.%f')\n",
    "                pred_time = datetime.strptime(pred_time, '%Y-%m-%d %H:%M:%S.%f')\n",
    "                if pred_time < gt_time:\n",
    "                    time_diff = gt_time - pred_time\n",
    "                    time_diff = f\"提早 {round(time_diff.seconds + time_diff.microseconds/10000 / 100, 2)} 秒\"\n",
    "                else:\n",
    "                    time_diff = pred_time - gt_time\n",
    "                    time_diff = f\"晚了 {round(time_diff.seconds + time_diff.microseconds/10000 / 100, 2)} 秒\"\n",
    "                    \n",
    "                result[tmp_station]['time_diff'][level] = time_diff\n",
    "            \n",
    "    return result\n",
    "\n",
    "def send_info(df):\n",
    "    result = gen_info(df)\n",
    "\n",
    "    cnt = 0\n",
    "    msg = \"\"\n",
    "    for k, v in result.items():\n",
    "        msg += f\"\\n{k} \\n預測: {v['pred_intensity']}級, 真實級別: {v['true_intensity']}級\\n\"\n",
    "        msg += f\"|\\t震度\\t|\\tleading time\\t|\\n\"\n",
    "\n",
    "        for tmp_k, tmp_v in v['time_diff'].items():\n",
    "            msg += f\"|\\t{mapping_gal_to_intensity(tmp_k.split('_')[-1])}\\t|\\t{tmp_v}\\t|\\n\"\n",
    "\n",
    "        msg += '=-=-=-=-=-=-=-=-'\n",
    "        cnt += 1\n",
    "\n",
    "        # if cnt % 5 == 0:\n",
    "        #     # alive_notify(msg)\n",
    "        #     msg = \"\"\n",
    "\n",
    "    return msg\n",
    "\n",
    "# sent the notify proved the system is alive\n",
    "def alive_notify(msg):\n",
    "    message = '報告時間: \\n' + (datetime.utcfromtimestamp(time.time()) + timedelta(hours=8)).strftime('%Y-%m-%d %H:%M:%S.%f') + '\\n'\n",
    "    message += msg\n",
    "\n",
    "    token = 'gPDTduLxtElER8j4T2glCQXh3vRJZTtSlKjvhfDaCJb'\n",
    "    while True:\n",
    "        try:\n",
    "            url = \"https://notify-api.line.me/api/notify\"\n",
    "            headers = {\n",
    "                'Authorization': f'Bearer {token}'\n",
    "            }\n",
    "            payload = {\n",
    "                'message': message,\n",
    "            }\n",
    "            response = requests.request(\n",
    "                \"POST\",\n",
    "                url,\n",
    "                headers=headers,\n",
    "                data=payload,\n",
    "            )\n",
    "            if response.status_code == 200:\n",
    "                print(f\"Success, system is alive -> {response.text}\")\n",
    "                break\n",
    "            else:\n",
    "                print(f'(Alive) Error -> {response.status_code}, {response.text}')\n",
    "        except Exception as e:\n",
    "            print(e)\n",
    "\n",
    "def output_msg(df_path):\n",
    "    df = pd.read_csv(df_path)\n",
    "    true_intensity_key = ['Label_0.8gal', 'Label_2.5gal', 'Label_8gal', 'Label_25gal', 'Label_81gal', 'Label_140gal', 'Label_250gal']\n",
    "    for key in true_intensity_key:\n",
    "        df[key] = df[key].fillna(0)\n",
    "    msg = send_info(df)\n",
    "    return msg"
   ]
  },
  {
   "cell_type": "code",
   "execution_count": 14,
   "metadata": {},
   "outputs": [
    {
     "data": {
      "text/plain": [
       "'\\n花蓮縣 萬榮鄉 紅葉 \\n預測: 4級, 真實級別: 5弱級\\n|\\t震度\\t|\\tleading time\\t|\\n|\\t3級\\t|\\t晚了 2.9 秒\\t|\\n|\\t4級\\t|\\t晚了 9.9 秒\\t|\\n=-=-=-=-=-=-=-=-\\n臺東縣 成功鎮 博愛 \\n預測: 4級, 真實級別: 4級\\n|\\t震度\\t|\\tleading time\\t|\\n|\\t3級\\t|\\t晚了 8.16 秒\\t|\\n|\\t4級\\t|\\t晚了 7.16 秒\\t|\\n=-=-=-=-=-=-=-=-\\n臺東縣 東河鄉 東河 \\n預測: 4級, 真實級別: 4級\\n|\\t震度\\t|\\tleading time\\t|\\n|\\t3級\\t|\\t提早 38.13 秒\\t|\\n|\\t4級\\t|\\t提早 38.13 秒\\t|\\n=-=-=-=-=-=-=-=-\\n花蓮縣 光復鄉 光復 \\n預測: 4級, 真實級別: 4級\\n|\\t震度\\t|\\tleading time\\t|\\n|\\t3級\\t|\\t晚了 15.74 秒\\t|\\n|\\t4級\\t|\\t晚了 13.74 秒\\t|\\n=-=-=-=-=-=-=-=-\\n台東縣 海端鄉 廣原國小 \\n預測: 3級, 真實級別: 3級\\n|\\t震度\\t|\\tleading time\\t|\\n|\\t3級\\t|\\t晚了 19.15 秒\\t|\\n=-=-=-=-=-=-=-=-\\n臺東縣 海端鄉 利稻 \\n預測: 3級, 真實級別: 3級\\n|\\t震度\\t|\\tleading time\\t|\\n|\\t3級\\t|\\t晚了 4.13 秒\\t|\\n=-=-=-=-=-=-=-=-\\n花蓮縣 壽豐鄉 水璉 \\n預測: 5強級, 真實級別: 5弱級\\n|\\t震度\\t|\\tleading time\\t|\\n|\\t3級\\t|\\t晚了 27.18 秒\\t|\\n|\\t4級\\t|\\t晚了 4.18 秒\\t|\\n|\\t5弱級\\t|\\t晚了 4.18 秒\\t|\\n|\\t5強級\\t|\\tfalse positive\\t|\\n=-=-=-=-=-=-=-=-\\n花蓮縣 秀林鄉 太魯閣 \\n預測: 3級, 真實級別: 3級\\n|\\t震度\\t|\\tleading time\\t|\\n|\\t3級\\t|\\t晚了 29.55 秒\\t|\\n=-=-=-=-=-=-=-=-\\n宜蘭縣 南澳鄉 澳花 \\n預測: 3級, 真實級別: 2級\\n|\\t震度\\t|\\tleading time\\t|\\n|\\t3級\\t|\\tfalse positive\\t|\\n=-=-=-=-=-=-=-=-\\n臺中市 和平區 福壽山 \\n預測: 4級, 真實級別: 1級\\n|\\t震度\\t|\\tleading time\\t|\\n|\\t3級\\t|\\tfalse positive\\t|\\n|\\t4級\\t|\\tfalse positive\\t|\\n=-=-=-=-=-=-=-=-\\n臺東縣 綠島鄉 綠島 \\n預測: 4級, 真實級別: 2級\\n|\\t震度\\t|\\tleading time\\t|\\n|\\t3級\\t|\\tfalse positive\\t|\\n|\\t4級\\t|\\tfalse positive\\t|\\n=-=-=-=-=-=-=-=-\\n南投縣 信義鄉 信義 \\n預測: 3級, 真實級別: 2級\\n|\\t震度\\t|\\tleading time\\t|\\n|\\t3級\\t|\\tfalse positive\\t|\\n=-=-=-=-=-=-=-=-\\n宜蘭縣 蘇澳鎮 永樂 \\n預測: 5強級, 真實級別: 5弱級\\n|\\t震度\\t|\\tleading time\\t|\\n|\\t3級\\t|\\t晚了 60.85 秒\\t|\\n|\\t4級\\t|\\t晚了 57.85 秒\\t|\\n|\\t5弱級\\t|\\t晚了 45.85 秒\\t|\\n|\\t5強級\\t|\\tfalse positive\\t|\\n=-=-=-=-=-=-=-=-'"
      ]
     },
     "execution_count": 14,
     "metadata": {},
     "output_type": "execute_result"
    }
   ],
   "source": [
    "df = pd.read_csv(\"/home/sora/M11015203/docker-home/Earthworm/pyearthworm-predict-pga25/warning_log/log/2023-4-25-16:25:33_warning.log\")\n",
    "output_msg(\"/home/sora/M11015203/docker-home/Earthworm/pyearthworm-predict-pga25/warning_log/log/2023-4-25-16:25:33_warning.log\")"
   ]
  },
  {
   "cell_type": "code",
   "execution_count": 17,
   "metadata": {},
   "outputs": [
    {
     "name": "stdout",
     "output_type": "stream",
     "text": [
      "0\n"
     ]
    }
   ],
   "source": [
    "for level in range(1):\n",
    "    print(level)"
   ]
  },
  {
   "cell_type": "code",
   "execution_count": null,
   "metadata": {},
   "outputs": [],
   "source": []
  }
 ],
 "metadata": {
  "kernelspec": {
   "display_name": "Earthworm",
   "language": "python",
   "name": "python3"
  },
  "language_info": {
   "codemirror_mode": {
    "name": "ipython",
    "version": 3
   },
   "file_extension": ".py",
   "mimetype": "text/x-python",
   "name": "python",
   "nbconvert_exporter": "python",
   "pygments_lexer": "ipython3",
   "version": "3.8.9"
  },
  "orig_nbformat": 4
 },
 "nbformat": 4,
 "nbformat_minor": 2
}
